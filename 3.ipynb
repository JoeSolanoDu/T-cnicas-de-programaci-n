{
  "nbformat": 4,
  "nbformat_minor": 0,
  "metadata": {
    "colab": {
      "provenance": [],
      "authorship_tag": "ABX9TyMdGsll5YYJlBNlOeSTdGgV",
      "include_colab_link": true
    },
    "kernelspec": {
      "name": "python3",
      "display_name": "Python 3"
    },
    "language_info": {
      "name": "python"
    }
  },
  "cells": [
    {
      "cell_type": "markdown",
      "metadata": {
        "id": "view-in-github",
        "colab_type": "text"
      },
      "source": [
        "<a href=\"https://colab.research.google.com/github/JoeSolanoDu/T-cnicas-de-programaci-n/blob/main/3.ipynb\" target=\"_parent\"><img src=\"https://colab.research.google.com/assets/colab-badge.svg\" alt=\"Open In Colab\"/></a>"
      ]
    },
    {
      "cell_type": "code",
      "execution_count": 1,
      "metadata": {
        "colab": {
          "base_uri": "https://localhost:8080/"
        },
        "id": "tUBKzjWIXvIe",
        "outputId": "58b4c8c4-36af-4160-c338-ea748d0c2013"
      },
      "outputs": [
        {
          "output_type": "stream",
          "name": "stdout",
          "text": [
            "Ingrese el dividendo (w): 12\n",
            "Ingrese el divisor (z): 4\n",
            "El resultado de la división es: 3\n"
          ]
        }
      ],
      "source": [
        "# OBJETIVO: recursividad aplicando la division\n",
        "# Nombre: David Joe Solano Dueñas\n",
        "# Fecha: 27/04/2025\n",
        "\n",
        "def FunRecurDivision(w, z):                                #(12,4)                    (8,4)                     (4,4)                  (0,4)\n",
        "    if z == 0:\n",
        "        return \"Error: División por cero no permitida\"\n",
        "    if w < z:\n",
        "        return 0\n",
        "    return 1 + FunRecurDivision(w - z, z)\n",
        "                                                                ##(1+FunRecurDivision(12-4,4))  =1\n",
        "                                                                   ##(1+FunRecurDivision(8-4,4))  =1\n",
        "                                                                      ##(1+FunRecurDivision(8-4,4))  = 1\n",
        "                                                                        ##(1+FunRecurDivision(4-4,4))   = 0\n",
        "w = int(input(\"Ingrese el dividendo (w): \"))    #12\n",
        "z = int(input(\"Ingrese el divisor (z): \"))      #4\n",
        "resultado = FunRecurDivision(w, z)\n",
        "print(f\"El resultado de la división es: {resultado}\")    ### 0 + 1 + 1 + 1  = 3"
      ]
    }
  ]
}