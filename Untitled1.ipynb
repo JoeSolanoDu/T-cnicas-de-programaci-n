{
  "nbformat": 4,
  "nbformat_minor": 0,
  "metadata": {
    "colab": {
      "provenance": [],
      "authorship_tag": "ABX9TyNBcjhwoUr6Rh7u8+F/x748",
      "include_colab_link": true
    },
    "kernelspec": {
      "name": "python3",
      "display_name": "Python 3"
    },
    "language_info": {
      "name": "python"
    }
  },
  "cells": [
    {
      "cell_type": "markdown",
      "metadata": {
        "id": "view-in-github",
        "colab_type": "text"
      },
      "source": [
        "<a href=\"https://colab.research.google.com/github/JoeSolanoDu/T-cnicas-de-programaci-n/blob/main/Untitled1.ipynb\" target=\"_parent\"><img src=\"https://colab.research.google.com/assets/colab-badge.svg\" alt=\"Open In Colab\"/></a>"
      ]
    },
    {
      "cell_type": "code",
      "source": [
        "#ALGORITMO QUE MUESTRA ESTE MENSAJE “Hola mundo, mi nombre es Nombre + PATERNO + MATERNO\n",
        "\n",
        "print(\"hola mundo, mi nombre es David Joe Solano Dueñas\")"
      ],
      "metadata": {
        "colab": {
          "base_uri": "https://localhost:8080/"
        },
        "id": "A1EMxqRhQPFb",
        "outputId": "33bc5e40-420e-415b-e17b-99c0c64f533d"
      },
      "execution_count": 26,
      "outputs": [
        {
          "output_type": "stream",
          "name": "stdout",
          "text": [
            "hola mundo, mi nombre es David Joe Solano Dueñas\n"
          ]
        }
      ]
    },
    {
      "cell_type": "code",
      "execution_count": 12,
      "metadata": {
        "colab": {
          "base_uri": "https://localhost:8080/"
        },
        "id": "vBa0aHjoPP7T",
        "outputId": "fe009db5-1069-44fa-d51e-fa1e9d4c7d16"
      },
      "outputs": [
        {
          "output_type": "stream",
          "name": "stdout",
          "text": [
            "Ingrese un número entero: 5\n",
            "Ingrese un número flotante: 52\n",
            "Ingrese un valor booleano (1 para True, 0 para False): 1\n",
            "Ingrese una cadena de texto: aSADFG\n",
            "\n",
            "Datos ingresados:\n",
            "Número entero: 5\n",
            "Número flotante: 52.0\n",
            "Valor booleano: True\n",
            "Cadena de texto: aSADFG\n"
          ]
        }
      ],
      "source": [
        "# algoritmo que te solicite el ingreso y que muestre en ejecución, lo que se ha ingresado: Numero entero, Número flotante, Boleano, Cadena\n",
        "entero = int(input(\"Ingrese un número entero: \"))\n",
        "flotante = float(input(\"Ingrese un número flotante: \"))\n",
        "boleano = input(\"Ingrese un valor booleano (1 para True, 0 para False): \")\n",
        "if boleano == \"1\":\n",
        "    boleano = True\n",
        "elif boleano == \"0\":\n",
        "    boleano = False\n",
        "else:\n",
        "    print(\"Entrada no válida para un valor booleano. Se asignará False por defecto.\")\n",
        "    boleano = False\n",
        "cadena = input(\"Ingrese una cadena de texto: \")\n",
        "\n",
        "\n",
        "print(\"\\nDatos ingresados:\")\n",
        "print(\"Número entero:\", entero)\n",
        "print(\"Número flotante:\", flotante)\n",
        "print(\"Valor booleano:\", boleano)\n",
        "print(\"Cadena de texto:\", cadena)"
      ]
    },
    {
      "cell_type": "code",
      "source": [
        "#algoritmo para calcular la raíz cúbica de un número que se ingrese.\n",
        "r=float(input(\"Ingrese el valor a calcular: \"))\n",
        "p=(r)**(1/3)\n",
        "print(\"\\n La Raiz es:\",p )"
      ],
      "metadata": {
        "colab": {
          "base_uri": "https://localhost:8080/"
        },
        "id": "TvPyTZSMS3yA",
        "outputId": "986da264-a4f2-4f81-fc70-12bf858906c7"
      },
      "execution_count": 16,
      "outputs": [
        {
          "output_type": "stream",
          "name": "stdout",
          "text": [
            "Ingrese el valor a calcular: 27\n",
            "\n",
            " La Raiz es: 3.0\n"
          ]
        }
      ]
    },
    {
      "cell_type": "code",
      "source": [
        "#Algoritmo que calcula el área de un rectángulo\n",
        "a=float(input(\"ingrese el  valor de la base: \"))\n",
        "b=float(input(\"ingrese el  valor de la altura: \"))\n",
        "area=(a)*(b)\n",
        "print(\"\\nEl área del rectangulo es:\", area)\n"
      ],
      "metadata": {
        "colab": {
          "base_uri": "https://localhost:8080/"
        },
        "id": "6MaKIYmeWHDV",
        "outputId": "830959d0-e74a-43e7-f014-df02b97b4418"
      },
      "execution_count": 23,
      "outputs": [
        {
          "output_type": "stream",
          "name": "stdout",
          "text": [
            "ingrese el  valor de la base: 5\n",
            "ingrese el  valor de la altura: 4\n",
            "\n",
            "El área del rectangulo es: 20.0\n"
          ]
        }
      ]
    },
    {
      "cell_type": "code",
      "source": [
        "#Algoritmo que calcula el volumen de un cubo\n",
        "l=float(input(\"ingrese el valor del lado: \"))\n",
        "cubo=(l)**(3)\n",
        "print(\"\\El valor del cubo es: \", cubo)"
      ],
      "metadata": {
        "colab": {
          "base_uri": "https://localhost:8080/"
        },
        "id": "P4rbG9q2WReB",
        "outputId": "f9df87c3-05f7-4e54-e5de-06cee1860344"
      },
      "execution_count": 25,
      "outputs": [
        {
          "output_type": "stream",
          "name": "stdout",
          "text": [
            "ingrese el valor del lado: 5\n",
            "\\El valor del cubo es:  125.0\n"
          ]
        }
      ]
    }
  ]
}