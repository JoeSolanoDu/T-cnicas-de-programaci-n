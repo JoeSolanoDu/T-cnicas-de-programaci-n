{
  "nbformat": 4,
  "nbformat_minor": 0,
  "metadata": {
    "colab": {
      "provenance": [],
      "authorship_tag": "ABX9TyO0+ykdby1k//cvAq+i3CHH",
      "include_colab_link": true
    },
    "kernelspec": {
      "name": "python3",
      "display_name": "Python 3"
    },
    "language_info": {
      "name": "python"
    }
  },
  "cells": [
    {
      "cell_type": "markdown",
      "metadata": {
        "id": "view-in-github",
        "colab_type": "text"
      },
      "source": [
        "<a href=\"https://colab.research.google.com/github/JoeSolanoDu/T-cnicas-de-programaci-n/blob/main/ejercicio1.ipynb\" target=\"_parent\"><img src=\"https://colab.research.google.com/assets/colab-badge.svg\" alt=\"Open In Colab\"/></a>"
      ]
    },
    {
      "cell_type": "code",
      "execution_count": null,
      "metadata": {
        "colab": {
          "base_uri": "https://localhost:8080/"
        },
        "id": "G5jQVJ7xf6zz",
        "outputId": "074d0233-571f-449f-a440-7957dffacccc"
      },
      "outputs": [
        {
          "output_type": "stream",
          "name": "stdout",
          "text": [
            "Ingrese la base: 5\n",
            "ingrese la altura: 6\n",
            "\n",
            " EL AREA ES:  30.0\n"
          ]
        }
      ],
      "source": [
        "#OBJETIVO: Area del rectángulo\n",
        "#Nombre: David Joe Solano Dueñas\n",
        "#Fecha: 29/03/2025\n",
        "\n",
        "#Entrada\n",
        "b= float(input(\"Ingrese la base: \"))\n",
        "h= float(input(\"ingrese la altura: \"))\n",
        "\n",
        "#PROCESO\n",
        "area=b*h\n",
        "\n",
        "#Salida\n",
        "print(\"\\n EL AREA ES: \", area )\n"
      ]
    },
    {
      "cell_type": "code",
      "source": [
        "# OBJETIVO: PROYECTO 1\n",
        "# Nombre: David Joe Solano Dueñas\n",
        "# Fecha: 29/03/2025\n",
        "\n",
        "# Entrada\n",
        "monto = float(input(\"Digite su ingreso general mensual: \"))\n",
        "dias = int(input(\"Digite los días laborados: \"))\n",
        "renta = float(input(\"Digite el descuento de la quinta categoría: \"))\n",
        "\n",
        "# Proceso\n",
        "pago_por_dia = monto / 30  # Se calcula el pago por día\n",
        "tot_dias = 30 - dias  # Se calculan los días no laborados\n",
        "falta = pago_por_dia * tot_dias  # Se calcula el pago por los días faltantes\n",
        "pago_tot = monto - renta - falta  # Se calcula el pago total\n",
        "\n",
        "# Salida\n",
        "print(\"\\nEl pago total es: \", pago_tot)\n"
      ],
      "metadata": {
        "id": "IgdeeOiD21dV"
      },
      "execution_count": null,
      "outputs": []
    },
    {
      "cell_type": "code",
      "source": [
        "#OBJETIVO: PROYECTO 1\n",
        "#Nombre: David Joe Solano Dueñas\n",
        "#Fecha: 29/03/2025\n",
        "\n",
        "#Entrada\n",
        "monto= float(input(\"Digite su ingreso general mensual: \"))\n",
        "dias=int(input(\"Digite los dias laborados: \"))\n",
        "renta=float(input(\"digite el descuento de la renta de quinta categoria: \"))\n",
        "#PROCESO\n",
        "pago_por_dia=monto/30\n",
        "Tot_dias=30-dias\n",
        "falta= pago_por_dia*Tot_dias\n",
        "pago_tot=monto-(renta+falta)\n",
        "#Salida\n",
        "print(\"\\n el pago total es: \", pago_tot )\n"
      ],
      "metadata": {
        "id": "v_zunuye39kx"
      },
      "execution_count": null,
      "outputs": []
    },
    {
      "cell_type": "code",
      "source": [
        "#OBJETIVO: PROYECTO\n",
        "#Nombre: David Joe Solano Dueñas\n",
        "#Fecha: 29/03/2025\n",
        "\n",
        "#Entrada\n",
        "monto= float(input(\"Digite su ingreso general mensual: \"))\n",
        "dias=int(input(\"Digite los dias laborados: \"))\n",
        "#PROCESO\n",
        "pago_por_dia=monto/30\n",
        "Tot_dias=30-dias\n",
        "falta= pago_por_dia*Tot_dias\n",
        "pago_tot=monto-falta\n",
        "#Salida\n",
        "print(\"\\n el pago total es: \", pago_tot )\n"
      ],
      "metadata": {
        "colab": {
          "base_uri": "https://localhost:8080/"
        },
        "id": "uldR_T62wIoD",
        "outputId": "c11a8fc6-20e3-4bb3-fd76-e2c029e5466e"
      },
      "execution_count": null,
      "outputs": [
        {
          "output_type": "stream",
          "name": "stdout",
          "text": [
            "Digite su ingreso general mensual: 9000\n",
            "Digite los dias laborados: 15\n",
            "\n",
            " el pago total es:  4500.0\n"
          ]
        }
      ]
    },
    {
      "cell_type": "code",
      "source": [
        "#Algoritmo que calcula el volumen de un cubo\n",
        "l=float(input(\"ingrese el valor del lado: \"))\n",
        "cubo=(l)**(3)\n",
        "print(\"\\n El valor del cubo es: \", cubo)\n"
      ],
      "metadata": {
        "colab": {
          "base_uri": "https://localhost:8080/"
        },
        "id": "_Gk322CtjKM_",
        "outputId": "3f0528ea-dae8-4ff7-be60-e22a9bd19b93"
      },
      "execution_count": null,
      "outputs": [
        {
          "output_type": "stream",
          "name": "stdout",
          "text": [
            "ingrese el valor del lado: 4\n",
            "\n",
            " El valor del cubo es:  64.0\n"
          ]
        }
      ]
    }
  ]
}